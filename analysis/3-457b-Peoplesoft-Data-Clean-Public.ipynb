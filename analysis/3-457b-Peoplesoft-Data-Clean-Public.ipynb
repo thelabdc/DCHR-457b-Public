{
 "cells": [
  {
   "cell_type": "markdown",
   "metadata": {},
   "source": [
    "This notebook cleans the Peoplesoft data that OCTO gave to us, and merges to the baseline DCHR data. Note that there is a discrepancy between the number of employees present in OCTO data compared the number of employees in DCHR data. This is all explained in the report."
   ]
  },
  {
   "cell_type": "code",
   "execution_count": 1,
   "metadata": {},
   "outputs": [],
   "source": [
    "import sys\n",
    "sys.path.append('..')\n",
    "import os.path\n",
    "\n",
    "import copy\n",
    "from datetime import datetime\n",
    "import numpy as np\n",
    "import pandas as pd\n",
    "import matplotlib.pyplot as plt\n",
    "import seaborn as sns\n",
    "import string\n",
    "%matplotlib inline\n",
    "\n",
    "\n",
    "DATA_DIR = os.path.join('..', 'data')"
   ]
  },
  {
   "cell_type": "code",
   "execution_count": 2,
   "metadata": {},
   "outputs": [
    {
     "name": "stderr",
     "output_type": "stream",
     "text": [
      "/opt/conda/lib/python3.6/site-packages/IPython/core/interactiveshell.py:2785: DtypeWarning: Columns (22,25,28,29,30,33,34,35,44,45,46,47) have mixed types. Specify dtype option on import or set low_memory=False.\n",
      "  interactivity=interactivity, compiler=compiler, result=result)\n"
     ]
    }
   ],
   "source": [
    "## Read in files: These are Peoplesoft data coming from OCTO\n",
    "d107 = pd.read_csv(os.path.join(DATA_DIR,'457_enrollment_0107.csv'), dtype = {'EMPLID': str})\n",
    "d122 = pd.read_csv(os.path.join(DATA_DIR,'457_enrollment_0122.csv'), dtype = {'EMPLID': str})\n",
    "d218 = pd.read_csv(os.path.join(DATA_DIR,'457_enrollment_0218.csv'), dtype = {'EMPLID': str})\n",
    "d304 = pd.read_csv(os.path.join(DATA_DIR,'457_enrollment_0304.csv'), dtype = {'EMPLID': str})\n",
    "\n",
    "#Pull in email outcomes as generated from the notebook: 1-data-clean-and-merge.ipynb\n",
    "#This is our baseline data from DCHR\n",
    "outcomes = pd.read_csv(os.path.join(DATA_DIR,'outcomes_id_emails.csv'),\n",
    "                       dtype = {'EmplID': str}) ## Email outcomes"
   ]
  },
  {
   "cell_type": "code",
   "execution_count": 3,
   "metadata": {},
   "outputs": [
    {
     "name": "stdout",
     "output_type": "stream",
     "text": [
      "By treatment arm:\n",
      "Click_ess       False  True \n",
      "treatment_real              \n",
      "0.0             11256      0\n",
      "1.0             10900    315\n",
      "2.0             10949    266\n"
     ]
    },
    {
     "data": {
      "text/html": [
       "<div>\n",
       "<style scoped>\n",
       "    .dataframe tbody tr th:only-of-type {\n",
       "        vertical-align: middle;\n",
       "    }\n",
       "\n",
       "    .dataframe tbody tr th {\n",
       "        vertical-align: top;\n",
       "    }\n",
       "\n",
       "    .dataframe thead th {\n",
       "        text-align: right;\n",
       "    }\n",
       "</style>\n",
       "<table border=\"1\" class=\"dataframe\">\n",
       "  <thead>\n",
       "    <tr style=\"text-align: right;\">\n",
       "      <th>Open_ess</th>\n",
       "      <th>False</th>\n",
       "      <th>True</th>\n",
       "      <th>All</th>\n",
       "    </tr>\n",
       "    <tr>\n",
       "      <th>treatment_real</th>\n",
       "      <th></th>\n",
       "      <th></th>\n",
       "      <th></th>\n",
       "    </tr>\n",
       "  </thead>\n",
       "  <tbody>\n",
       "    <tr>\n",
       "      <th>0.0</th>\n",
       "      <td>11256</td>\n",
       "      <td>0</td>\n",
       "      <td>11256</td>\n",
       "    </tr>\n",
       "    <tr>\n",
       "      <th>1.0</th>\n",
       "      <td>8496</td>\n",
       "      <td>2719</td>\n",
       "      <td>11215</td>\n",
       "    </tr>\n",
       "    <tr>\n",
       "      <th>2.0</th>\n",
       "      <td>8481</td>\n",
       "      <td>2734</td>\n",
       "      <td>11215</td>\n",
       "    </tr>\n",
       "    <tr>\n",
       "      <th>All</th>\n",
       "      <td>28233</td>\n",
       "      <td>5453</td>\n",
       "      <td>33686</td>\n",
       "    </tr>\n",
       "  </tbody>\n",
       "</table>\n",
       "</div>"
      ],
      "text/plain": [
       "Open_ess        False  True    All\n",
       "treatment_real                    \n",
       "0.0             11256     0  11256\n",
       "1.0              8496  2719  11215\n",
       "2.0              8481  2734  11215\n",
       "All             28233  5453  33686"
      ]
     },
     "execution_count": 3,
     "metadata": {},
     "output_type": "execute_result"
    }
   ],
   "source": [
    "# Generate variables for whether an employee has ever clicked on a link \n",
    "\n",
    "# We consider \"success\" to be whether an employee has clicked on either of these ess links\n",
    "ess1 = 'https://ess.dc.gov/psp/essprod/ESS/HRMS/c/W3EB_MENU.W3EB_SELECT_EVNT.GBL?' +\\\n",
    "       'Page=W3EB_SELECT_EVNT&Action=U&XFER_SOURCE_TILE=Benefits'\n",
    "ess2 = 'https://ess.dc.gov/psc/essprod/ESS/HRMS/c/EF_BENEFITS_FL.W3EB_GRID_FLU.GBL'\n",
    "\n",
    "# initialize the 'click_ess' column and setting everyone to False\n",
    "outcomes['Click_ess'] = False\n",
    "\n",
    "# Going through all of the links as of March (supposed to be cumulative)\n",
    "# There are 5 distinct links in the March set of emails (that's why arange(1,6))\n",
    "for i in np.arange(1,6):\n",
    "    #Click_ess = True if employee has ever clicked on either the ess1 or ess2 links\n",
    "    #Because if df['Click_ess'] was ever true, true trumps false\n",
    "    outcomes['Click_ess'] = outcomes['Click_ess'] | \\\n",
    "    (outcomes['Click0301_'+str(i)] == ess1) | \\\n",
    "    (outcomes['Click0301_'+str(i)] == ess2)\n",
    "\n",
    "\n",
    "print('By treatment arm:')\n",
    "print(pd.crosstab(outcomes.treatment_real, outcomes.Click_ess))\n",
    "\n",
    "outcomes['Open_ess'] = False\n",
    "outcomes['Open_ess'] = (outcomes['Opens0123'] > 0) | (outcomes['Opens0212'] > 0) | (outcomes['Opens0301'] >0)\n",
    "pd.crosstab(outcomes.treatment_real, outcomes.Open_ess, margins=True)"
   ]
  },
  {
   "cell_type": "markdown",
   "metadata": {},
   "source": [
    "# Data Cleaning"
   ]
  },
  {
   "cell_type": "code",
   "execution_count": 4,
   "metadata": {},
   "outputs": [
    {
     "name": "stdout",
     "output_type": "stream",
     "text": [
      "Jan 07th : rows, columns before dropping: (34969, 7)\n",
      "Number of duplicates: 142\n",
      "Jan 07th : rows, columns after dropping: (34827, 7)\n",
      "\n",
      "\n",
      "Jan 22nd : rows, columns before dropping: (35159, 7)\n",
      "Number of duplicates: 145\n",
      "Jan 22nd : rows, columns after dropping: (35014, 7)\n",
      "\n",
      "\n",
      "Feb 18th : rows, columns before dropping: (35257, 7)\n",
      "Number of duplicates: 144\n",
      "Feb 18th : rows, columns after dropping: (35113, 7)\n",
      "\n",
      "\n",
      "Mar 04th : rows, columns before dropping: (35306, 7)\n",
      "Number of duplicates: 145\n",
      "Mar 04th : rows, columns after dropping: (35161, 7)\n",
      "\n",
      "\n",
      "Outcomes Dataset: (33686, 58)\n"
     ]
    }
   ],
   "source": [
    "## Clean the data by changing the casing of emails and dropping straight up duplicates\n",
    "\n",
    "#list of the dataframes we're using \n",
    "dfs = [d107, d122, d218, d304]\n",
    "\n",
    "#give our dataframes names for the purposes of providing useful info while looping\n",
    "d107.name = 'Jan 07th' \n",
    "d122.name = 'Jan 22nd'\n",
    "d218.name = 'Feb 18th'\n",
    "d304.name = 'Mar 04th'\n",
    "\n",
    "#For every dataframe, check how many rows and columns we have. \n",
    "#Change emails to a consistent casing, then drop duplicates.\n",
    "#See how many rows and columns we have now.\n",
    "for df in dfs:\n",
    "    print(df.name, ': rows, columns before dropping:', df.shape)\n",
    "    df['EMAILID'] = df['EMAILID'].str.upper()\n",
    "    print('Number of duplicates:', len(df[df.duplicated(keep = 'first')]))\n",
    "    df.drop_duplicates(keep = 'first', inplace = True)\n",
    "    print(df.name, ': rows, columns after dropping:', df.shape)\n",
    "    print('\\n')\n",
    "    \n",
    "print('Outcomes Dataset:', outcomes.shape)"
   ]
  },
  {
   "cell_type": "markdown",
   "metadata": {},
   "source": [
    "### Reminder:DCHR Data - Enrollment by Treatment Arm"
   ]
  },
  {
   "cell_type": "code",
   "execution_count": 5,
   "metadata": {},
   "outputs": [
    {
     "data": {
      "text/html": [
       "<div>\n",
       "<style scoped>\n",
       "    .dataframe tbody tr th:only-of-type {\n",
       "        vertical-align: middle;\n",
       "    }\n",
       "\n",
       "    .dataframe tbody tr th {\n",
       "        vertical-align: top;\n",
       "    }\n",
       "\n",
       "    .dataframe thead th {\n",
       "        text-align: right;\n",
       "    }\n",
       "</style>\n",
       "<table border=\"1\" class=\"dataframe\">\n",
       "  <thead>\n",
       "    <tr style=\"text-align: right;\">\n",
       "      <th>Enroll</th>\n",
       "      <th>False</th>\n",
       "      <th>True</th>\n",
       "      <th>All</th>\n",
       "    </tr>\n",
       "    <tr>\n",
       "      <th>treatment_real</th>\n",
       "      <th></th>\n",
       "      <th></th>\n",
       "      <th></th>\n",
       "    </tr>\n",
       "  </thead>\n",
       "  <tbody>\n",
       "    <tr>\n",
       "      <th>0.0</th>\n",
       "      <td>7031</td>\n",
       "      <td>4225</td>\n",
       "      <td>11256</td>\n",
       "    </tr>\n",
       "    <tr>\n",
       "      <th>1.0</th>\n",
       "      <td>7021</td>\n",
       "      <td>4194</td>\n",
       "      <td>11215</td>\n",
       "    </tr>\n",
       "    <tr>\n",
       "      <th>2.0</th>\n",
       "      <td>7021</td>\n",
       "      <td>4194</td>\n",
       "      <td>11215</td>\n",
       "    </tr>\n",
       "    <tr>\n",
       "      <th>All</th>\n",
       "      <td>21073</td>\n",
       "      <td>12613</td>\n",
       "      <td>33686</td>\n",
       "    </tr>\n",
       "  </tbody>\n",
       "</table>\n",
       "</div>"
      ],
      "text/plain": [
       "Enroll          False   True    All\n",
       "treatment_real                     \n",
       "0.0              7031   4225  11256\n",
       "1.0              7021   4194  11215\n",
       "2.0              7021   4194  11215\n",
       "All             21073  12613  33686"
      ]
     },
     "execution_count": 5,
     "metadata": {},
     "output_type": "execute_result"
    }
   ],
   "source": [
    "pd.crosstab(outcomes.treatment_real, outcomes.Enroll, margins=True)"
   ]
  },
  {
   "cell_type": "markdown",
   "metadata": {},
   "source": [
    "## Merge Datasets\n",
    "\n",
    "Peoplesoft data is not actually consistent in terms of the emails associated with the employees, i.e. there are missing or different email addresses for employees. However, we decided that just because an email is not present in Peoplesoft doesn't mean that the employee did not receive the email. As a result, we are merging on just employee ID (as opposed to both emplid and email id) to ensure that more of our population is included.\n",
    "\n",
    "Due to other inconsistencies in the data, the process of merging the baseline data to Peoplesoft data is a bit complicated: \n",
    "- We first merge on both EmplID and email id to avoid duplicates resulting from those employees who appear multiple times but have either missing emails, or a different email address associated with the EmplID. \n",
    "- For those who do not match on both employee id and email id, use just the EmplID for the dataset merge. \n",
    "- EmplID anon_id_1 is consistently both enrolled and not enrolled in 457b at the same time, so they will be kicked out of our dataset\n",
    "- EmplID anon_id_2 is also consistently both enrolled and not enrolled at the same time. However, their monetary elections are all 0 or 0%, so we consider them to be not enrolled, and drop their \"enrolled\" status. "
   ]
  },
  {
   "cell_type": "code",
   "execution_count": 6,
   "metadata": {},
   "outputs": [],
   "source": [
    "def mergeOutcomes(df1, df2, left_id, right_id, left_email_id, right_email_id, #for merge\n",
    "                  left_suffix, right_suffix, #to indicate any merge suffixes\n",
    "                  special_col, special_str): #these are the special case ones\n",
    "    '''\n",
    "    Inputs:\n",
    "    df1 = left dataframe to merge\n",
    "    df2 = right dataframe\n",
    "    left_id: string that will serve as your primary key in the left df\n",
    "    right_id: string that will serve as your primary key in the right df\n",
    "    left_email_id: string that will serve as the second PK in left left\n",
    "    right_email_id: string that will serve as the second PK in right left\n",
    "    left_suffix: upon merge, left suffix for the left df\n",
    "    right_suffix: upon merge, right suffix for the right df    \n",
    "    ids_to_drop: list of ids that needs to be dropped  \n",
    "    \n",
    "    These are for the special case ones \n",
    "    special_col:\n",
    "    special_str: \n",
    "        \n",
    "    Perform left join (df1, df2), first using both employee id and emails.\n",
    "    \n",
    "    \n",
    "    '''\n",
    "    \n",
    "    #--------------------------------- Merge on EMPLID and EMAIL ID ----------------------------#\n",
    "    \n",
    "    df = pd.merge(df1, df2, \n",
    "                  left_on = [left_id, left_email_id],\n",
    "                  right_on = [right_id, right_email_id],\n",
    "                  suffixes = (left_suffix, right_suffix),\n",
    "                  how = 'left', \n",
    "                  indicator = True)\n",
    "    \n",
    "    print(\"Breakout of merged employees:\")\n",
    "    print(\"'both' refers to employees showing up in both DCHR and OCTO data\")\n",
    "    print(\"'left_only' refers to employees who were only present in DCHR data\")\n",
    "    print('')\n",
    "    print(df._merge.value_counts())\n",
    "    \n",
    "    \n",
    "    #IDs to drop: \n",
    "    #Get rid of anon_id_1 \n",
    "    ##### NOTE: 'anon_id_1' and 'anon_id_2\" are real emplids, however, it's considered PII so we don't include here\n",
    "    \n",
    "    df = df[df[left_id] != 'anon_id_1']\n",
    "    \n",
    "    # Specific to this dataset: anon_id_2 is  consistently both enrolled and not enrolled at the same time. \n",
    "    # However, monetary elections are all 0 or 0%, so we consider this to benot enrolled, and \n",
    "    # drop the \"enrolled\" status. \n",
    "    df = df[~((df[left_id] == 'anon_id_2') & (df[special_col]==special_str))]\n",
    "\n",
    "    #Check for duplicates again\n",
    "    print('')\n",
    "    print('Length of duplicates', len(df[df.duplicated(subset=left_id, keep = False)]))\n",
    "    \n",
    "    \n",
    "    #--------------------------------- Merge on EMPLID only ----------------------------#\n",
    "    #For those who were not mergeable: \n",
    "    # Create a dataframe who only showed up in the left dataframe, \n",
    "    # indicator = \"left_only\", to join back to df on Empl ID only.\n",
    "    left_only = df[df._merge == 'left_only'].copy()\n",
    "    \n",
    "    #drop from our original dataset\n",
    "    df = df[df._merge != 'left_only']\n",
    "\n",
    "    df.drop(labels = '_merge', axis = 1, inplace = True)\n",
    "    \n",
    "     #Get the ids from the left-only folks and use those to only merge on EMPLID\n",
    "    df_remainder = pd.merge(df1[df1[left_id].isin(list(left_only[left_id]))],\n",
    "                                df2, \n",
    "                                left_on = left_id,\n",
    "                                right_on = right_id,\n",
    "                                indicator=True)\n",
    "    \n",
    "    #Take the max values to get rid of the duplicates that resulted from having blank values\n",
    "    df_remainder = df_remainder.groupby(left_id).max().reset_index()\n",
    "    \n",
    "    #reorder based on the columns in the original set\n",
    "    df_remainder = df_remainder.reindex(df.columns, axis = 1)\n",
    "    \n",
    "    #add data back to original\n",
    "    df = pd.concat([df, df_remainder])\n",
    "\n",
    "    #Check for duplicates\n",
    "    len(df[df.duplicated(subset=left_id, keep = False)])\n",
    "    \n",
    "    return df"
   ]
  },
  {
   "cell_type": "markdown",
   "metadata": {},
   "source": [
    "### Merge January 07 Peoplesoft Data"
   ]
  },
  {
   "cell_type": "code",
   "execution_count": 7,
   "metadata": {},
   "outputs": [
    {
     "name": "stdout",
     "output_type": "stream",
     "text": [
      "Breakout of merged employees:\n",
      "'both' refers to employees showing up in both DCHR and OCTO data\n",
      "'left_only' refers to employees who were only present in DCHR data\n",
      "\n",
      "both          26254\n",
      "left_only      7433\n",
      "right_only        0\n",
      "Name: _merge, dtype: int64\n",
      "\n",
      "Length of duplicates 0\n",
      "\n",
      "January 07 enrollments broken out by treatment group:\n"
     ]
    },
    {
     "data": {
      "text/html": [
       "<div>\n",
       "<style scoped>\n",
       "    .dataframe tbody tr th:only-of-type {\n",
       "        vertical-align: middle;\n",
       "    }\n",
       "\n",
       "    .dataframe tbody tr th {\n",
       "        vertical-align: top;\n",
       "    }\n",
       "\n",
       "    .dataframe thead th {\n",
       "        text-align: right;\n",
       "    }\n",
       "</style>\n",
       "<table border=\"1\" class=\"dataframe\">\n",
       "  <thead>\n",
       "    <tr style=\"text-align: right;\">\n",
       "      <th>JAN07THENROLLMENT</th>\n",
       "      <th>ElectedJan07th</th>\n",
       "      <th>Not Elected</th>\n",
       "      <th>Total</th>\n",
       "    </tr>\n",
       "    <tr>\n",
       "      <th>treatment_real</th>\n",
       "      <th></th>\n",
       "      <th></th>\n",
       "      <th></th>\n",
       "    </tr>\n",
       "  </thead>\n",
       "  <tbody>\n",
       "    <tr>\n",
       "      <th>0.0</th>\n",
       "      <td>4670</td>\n",
       "      <td>5965</td>\n",
       "      <td>10635</td>\n",
       "    </tr>\n",
       "    <tr>\n",
       "      <th>1.0</th>\n",
       "      <td>4632</td>\n",
       "      <td>5938</td>\n",
       "      <td>10570</td>\n",
       "    </tr>\n",
       "    <tr>\n",
       "      <th>2.0</th>\n",
       "      <td>4667</td>\n",
       "      <td>5930</td>\n",
       "      <td>10597</td>\n",
       "    </tr>\n",
       "    <tr>\n",
       "      <th>Total</th>\n",
       "      <td>13969</td>\n",
       "      <td>17833</td>\n",
       "      <td>31802</td>\n",
       "    </tr>\n",
       "  </tbody>\n",
       "</table>\n",
       "</div>"
      ],
      "text/plain": [
       "JAN07THENROLLMENT  ElectedJan07th  Not Elected  Total\n",
       "treatment_real                                       \n",
       "0.0                          4670         5965  10635\n",
       "1.0                          4632         5938  10570\n",
       "2.0                          4667         5930  10597\n",
       "Total                       13969        17833  31802"
      ]
     },
     "execution_count": 7,
     "metadata": {},
     "output_type": "execute_result"
    }
   ],
   "source": [
    "df_Jan107_merge = mergeOutcomes(df1 = outcomes, df2 = d107, \n",
    "                                left_id ='EmplID', right_id = 'EMPLID', \n",
    "                                left_email_id = 'email_upper', right_email_id = 'EMAILID', \n",
    "                                left_suffix ='',  right_suffix ='', \n",
    "                                special_col = 'JAN07THENROLLMENT',\n",
    "                                special_str = 'ElectedJan07th')\n",
    "\n",
    "print()\n",
    "print('January 07 enrollments broken out by treatment group:')\n",
    "\n",
    "pd.crosstab(df_Jan107_merge.treatment_real, \n",
    "            df_Jan107_merge.JAN07THENROLLMENT,         \n",
    "            dropna=False, \n",
    "            margins=True, \n",
    "            margins_name='Total')"
   ]
  },
  {
   "cell_type": "markdown",
   "metadata": {},
   "source": [
    "### Merge Jan 22nd Data TRUE BASELINE. This will be used as the baseline for analysis. "
   ]
  },
  {
   "cell_type": "code",
   "execution_count": 8,
   "metadata": {},
   "outputs": [
    {
     "name": "stdout",
     "output_type": "stream",
     "text": [
      "Breakout of merged employees:\n",
      "'both' refers to employees showing up in both DCHR and OCTO data\n",
      "'left_only' refers to employees who were only present in DCHR data\n",
      "\n",
      "both          31679\n",
      "left_only       124\n",
      "right_only        0\n",
      "Name: _merge, dtype: int64\n",
      "\n",
      "Length of duplicates 0\n"
     ]
    },
    {
     "data": {
      "text/html": [
       "<div>\n",
       "<style scoped>\n",
       "    .dataframe tbody tr th:only-of-type {\n",
       "        vertical-align: middle;\n",
       "    }\n",
       "\n",
       "    .dataframe tbody tr th {\n",
       "        vertical-align: top;\n",
       "    }\n",
       "\n",
       "    .dataframe thead th {\n",
       "        text-align: right;\n",
       "    }\n",
       "</style>\n",
       "<table border=\"1\" class=\"dataframe\">\n",
       "  <thead>\n",
       "    <tr style=\"text-align: right;\">\n",
       "      <th>JAN22NDENROLLMENT</th>\n",
       "      <th>ElectedJan22nd</th>\n",
       "      <th>Not Elected</th>\n",
       "      <th>Total</th>\n",
       "    </tr>\n",
       "    <tr>\n",
       "      <th>treatment_real</th>\n",
       "      <th></th>\n",
       "      <th></th>\n",
       "      <th></th>\n",
       "    </tr>\n",
       "  </thead>\n",
       "  <tbody>\n",
       "    <tr>\n",
       "      <th>0.0</th>\n",
       "      <td>4656</td>\n",
       "      <td>5943</td>\n",
       "      <td>10599</td>\n",
       "    </tr>\n",
       "    <tr>\n",
       "      <th>1.0</th>\n",
       "      <td>4618</td>\n",
       "      <td>5903</td>\n",
       "      <td>10521</td>\n",
       "    </tr>\n",
       "    <tr>\n",
       "      <th>2.0</th>\n",
       "      <td>4657</td>\n",
       "      <td>5901</td>\n",
       "      <td>10558</td>\n",
       "    </tr>\n",
       "    <tr>\n",
       "      <th>Total</th>\n",
       "      <td>13931</td>\n",
       "      <td>17747</td>\n",
       "      <td>31678</td>\n",
       "    </tr>\n",
       "  </tbody>\n",
       "</table>\n",
       "</div>"
      ],
      "text/plain": [
       "JAN22NDENROLLMENT  ElectedJan22nd  Not Elected  Total\n",
       "treatment_real                                       \n",
       "0.0                          4656         5943  10599\n",
       "1.0                          4618         5903  10521\n",
       "2.0                          4657         5901  10558\n",
       "Total                       13931        17747  31678"
      ]
     },
     "execution_count": 8,
     "metadata": {},
     "output_type": "execute_result"
    }
   ],
   "source": [
    "df_Jan122_merge = mergeOutcomes(df1=df_Jan107_merge, df2=d122, \n",
    "                                left_id='EMPLID', right_id= 'EMPLID',\n",
    "                                left_email_id='EMAILID', right_email_id='EMAILID',\n",
    "                                left_suffix = '_0107', right_suffix='_0122',\n",
    "                                special_col = 'JAN22NDENROLLMENT', special_str= 'ElectedJan22nd')\n",
    "\n",
    "pd.crosstab(df_Jan122_merge.treatment_real, \n",
    "            df_Jan122_merge.JAN22NDENROLLMENT,         \n",
    "            dropna=False, \n",
    "            margins=True, \n",
    "            margins_name='Total')"
   ]
  },
  {
   "cell_type": "markdown",
   "metadata": {},
   "source": [
    "### Merge in February Data    "
   ]
  },
  {
   "cell_type": "code",
   "execution_count": 9,
   "metadata": {},
   "outputs": [
    {
     "name": "stdout",
     "output_type": "stream",
     "text": [
      "Breakout of merged employees:\n",
      "'both' refers to employees showing up in both DCHR and OCTO data\n",
      "'left_only' refers to employees who were only present in DCHR data\n",
      "\n",
      "both          31463\n",
      "left_only       216\n",
      "right_only        0\n",
      "Name: _merge, dtype: int64\n",
      "\n",
      "Length of duplicates 0\n"
     ]
    },
    {
     "data": {
      "text/html": [
       "<div>\n",
       "<style scoped>\n",
       "    .dataframe tbody tr th:only-of-type {\n",
       "        vertical-align: middle;\n",
       "    }\n",
       "\n",
       "    .dataframe tbody tr th {\n",
       "        vertical-align: top;\n",
       "    }\n",
       "\n",
       "    .dataframe thead th {\n",
       "        text-align: right;\n",
       "    }\n",
       "</style>\n",
       "<table border=\"1\" class=\"dataframe\">\n",
       "  <thead>\n",
       "    <tr style=\"text-align: right;\">\n",
       "      <th>FEB18THENROLLMENT</th>\n",
       "      <th>ElectedFeb18th</th>\n",
       "      <th>Not Elected</th>\n",
       "      <th>Total</th>\n",
       "    </tr>\n",
       "    <tr>\n",
       "      <th>treatment_real</th>\n",
       "      <th></th>\n",
       "      <th></th>\n",
       "      <th></th>\n",
       "    </tr>\n",
       "  </thead>\n",
       "  <tbody>\n",
       "    <tr>\n",
       "      <th>0.0</th>\n",
       "      <td>4627</td>\n",
       "      <td>5893</td>\n",
       "      <td>10520</td>\n",
       "    </tr>\n",
       "    <tr>\n",
       "      <th>1.0</th>\n",
       "      <td>4600</td>\n",
       "      <td>5861</td>\n",
       "      <td>10461</td>\n",
       "    </tr>\n",
       "    <tr>\n",
       "      <th>2.0</th>\n",
       "      <td>4627</td>\n",
       "      <td>5854</td>\n",
       "      <td>10481</td>\n",
       "    </tr>\n",
       "    <tr>\n",
       "      <th>Total</th>\n",
       "      <td>13854</td>\n",
       "      <td>17608</td>\n",
       "      <td>31462</td>\n",
       "    </tr>\n",
       "  </tbody>\n",
       "</table>\n",
       "</div>"
      ],
      "text/plain": [
       "FEB18THENROLLMENT  ElectedFeb18th  Not Elected  Total\n",
       "treatment_real                                       \n",
       "0.0                          4627         5893  10520\n",
       "1.0                          4600         5861  10461\n",
       "2.0                          4627         5854  10481\n",
       "Total                       13854        17608  31462"
      ]
     },
     "execution_count": 9,
     "metadata": {},
     "output_type": "execute_result"
    }
   ],
   "source": [
    "# For future merges, suffixes added to the merge will not take place, because the previous merge already changed \n",
    "# the column names. So now we just add the suffix before the merge\n",
    "cols_for_suffix = ['FLATAMOUNTBEFORETAX','FLATAMOUNTAFTERTAX', 'PERCENTAGEBEFORETAX', 'PERCENTAGEAFTERTAX']\n",
    "\n",
    "# bind the orignal columns and the columns with suffixes added together\n",
    "d218 = pd.concat([d218[['EMAILID', 'EMPLID', 'FEB18THENROLLMENT']], \n",
    "                  d218[cols_for_suffix].add_suffix('_0218')], \n",
    "                  axis = 1)\n",
    "\n",
    "df_Feb_merge = mergeOutcomes(df1=df_Jan122_merge, \n",
    "                             df2=d218, \n",
    "                             left_id='EMPLID', right_id= 'EMPLID',\n",
    "                             left_email_id='EMAILID', right_email_id='EMAILID',\n",
    "                             left_suffix = '', right_suffix='',\n",
    "                             special_col = 'FEB18THENROLLMENT', special_str= 'ElectedFeb18th')\n",
    "\n",
    "#Breakout of elections by treatment groups\n",
    "pd.crosstab(df_Feb_merge.treatment_real, \n",
    "            df_Feb_merge.FEB18THENROLLMENT,         \n",
    "            dropna=False, \n",
    "            margins=True, \n",
    "            margins_name='Total')"
   ]
  },
  {
   "cell_type": "markdown",
   "metadata": {},
   "source": [
    "### Merge in March Data"
   ]
  },
  {
   "cell_type": "code",
   "execution_count": 10,
   "metadata": {
    "scrolled": false
   },
   "outputs": [
    {
     "name": "stdout",
     "output_type": "stream",
     "text": [
      "Breakout of merged employees:\n",
      "'both' refers to employees showing up in both DCHR and OCTO data\n",
      "'left_only' refers to employees who were only present in DCHR data\n",
      "\n",
      "both          31361\n",
      "left_only       318\n",
      "right_only        0\n",
      "Name: _merge, dtype: int64\n",
      "\n",
      "Length of duplicates 0\n"
     ]
    },
    {
     "data": {
      "text/html": [
       "<div>\n",
       "<style scoped>\n",
       "    .dataframe tbody tr th:only-of-type {\n",
       "        vertical-align: middle;\n",
       "    }\n",
       "\n",
       "    .dataframe tbody tr th {\n",
       "        vertical-align: top;\n",
       "    }\n",
       "\n",
       "    .dataframe thead th {\n",
       "        text-align: right;\n",
       "    }\n",
       "</style>\n",
       "<table border=\"1\" class=\"dataframe\">\n",
       "  <thead>\n",
       "    <tr style=\"text-align: right;\">\n",
       "      <th>MAR04THENROLLMENT</th>\n",
       "      <th>ElectedMar04th</th>\n",
       "      <th>Not Elected</th>\n",
       "      <th>Total</th>\n",
       "    </tr>\n",
       "    <tr>\n",
       "      <th>treatment_real</th>\n",
       "      <th></th>\n",
       "      <th></th>\n",
       "      <th></th>\n",
       "    </tr>\n",
       "  </thead>\n",
       "  <tbody>\n",
       "    <tr>\n",
       "      <th>0.0</th>\n",
       "      <td>4610</td>\n",
       "      <td>5876</td>\n",
       "      <td>10486</td>\n",
       "    </tr>\n",
       "    <tr>\n",
       "      <th>1.0</th>\n",
       "      <td>4584</td>\n",
       "      <td>5850</td>\n",
       "      <td>10434</td>\n",
       "    </tr>\n",
       "    <tr>\n",
       "      <th>2.0</th>\n",
       "      <td>4611</td>\n",
       "      <td>5829</td>\n",
       "      <td>10440</td>\n",
       "    </tr>\n",
       "    <tr>\n",
       "      <th>Total</th>\n",
       "      <td>13805</td>\n",
       "      <td>17555</td>\n",
       "      <td>31360</td>\n",
       "    </tr>\n",
       "  </tbody>\n",
       "</table>\n",
       "</div>"
      ],
      "text/plain": [
       "MAR04THENROLLMENT  ElectedMar04th  Not Elected  Total\n",
       "treatment_real                                       \n",
       "0.0                          4610         5876  10486\n",
       "1.0                          4584         5850  10434\n",
       "2.0                          4611         5829  10440\n",
       "Total                       13805        17555  31360"
      ]
     },
     "execution_count": 10,
     "metadata": {},
     "output_type": "execute_result"
    }
   ],
   "source": [
    "# bind the orignal columns and the columns with suffixes added together\n",
    "d304 = pd.concat([d304[['EMAILID', 'EMPLID', 'MAR04THENROLLMENT']], \n",
    "                  d304[cols_for_suffix].add_suffix('_0304')], \n",
    "                  axis = 1)\n",
    "\n",
    "# March will be our exploratory data, so we are analyzing outcomes using Jan 22 as the baseline. \n",
    "df_March_merge = mergeOutcomes(df1=df_Jan122_merge, \n",
    "                               df2=d304, \n",
    "                               left_id='EMPLID', right_id= 'EMPLID',\n",
    "                               left_email_id='EMAILID', right_email_id='EMAILID',\n",
    "                               left_suffix = '', right_suffix='',\n",
    "                               special_col = 'MAR04THENROLLMENT', special_str= 'ElectedMar04th')\n",
    "\n",
    "#Breakout of elections by treatment groups\n",
    "pd.crosstab(df_March_merge.treatment_real, \n",
    "            df_March_merge.MAR04THENROLLMENT,         \n",
    "            dropna=False, \n",
    "            margins=True, \n",
    "            margins_name='Total')"
   ]
  },
  {
   "cell_type": "markdown",
   "metadata": {},
   "source": [
    "## DCHR vs OCTO Data Inconsistency"
   ]
  },
  {
   "cell_type": "markdown",
   "metadata": {},
   "source": [
    "#### There is some weird inconsistency with the sample numbers for those enrolled @ the baseline, compared to actual outcomes from Jan 9th Peoplesoft Data, i.e. ~1.5k not enrolled at the baseline but enrolled in Jan 9th."
   ]
  },
  {
   "cell_type": "code",
   "execution_count": 11,
   "metadata": {},
   "outputs": [
    {
     "name": "stdout",
     "output_type": "stream",
     "text": [
      "Number of customers who are not in OCTO-Peoplesoft data: 1884\n"
     ]
    },
    {
     "data": {
      "text/plain": [
       "Not Elected       21073\n",
       "ElectedJan07th    12613\n",
       "Name: Enrollment, dtype: int64"
      ]
     },
     "execution_count": 11,
     "metadata": {},
     "output_type": "execute_result"
    }
   ],
   "source": [
    "data_check = df_Jan107_merge.copy()\n",
    "\n",
    "#Which DCHR-data employees did not make it in?\n",
    "#Get data for the ones that did not make it in the merge \n",
    "other_ids = outcomes[~outcomes.EmplID.isin(list(data_check.EMPLID))]\n",
    "print('Number of customers who are not in OCTO-Peoplesoft data:', len(other_ids))\n",
    "\n",
    "#line up the columns to the Jan 0107 merge columns, and append them to the merged data\n",
    "other_ids = other_ids.reindex(labels = list(data_check.columns), axis = 1)\n",
    "data_check = pd.concat([data_check, other_ids])\n",
    "\n",
    "##\n",
    "#Clean it up\n",
    "data_check['JAN07THENROLLMENT'] = data_check['JAN07THENROLLMENT'].fillna('Missing')\n",
    "data_check['Enrollment'] = data_check['Enrollment'].replace({'457BEN':'ElectedJan07th'})\n",
    "data_check['Enrollment'] = data_check.Enrollment.fillna('Not Elected')\n",
    "data_check['Enrollment'].value_counts()"
   ]
  },
  {
   "cell_type": "code",
   "execution_count": 12,
   "metadata": {},
   "outputs": [
    {
     "data": {
      "text/html": [
       "<div>\n",
       "<style scoped>\n",
       "    .dataframe tbody tr th:only-of-type {\n",
       "        vertical-align: middle;\n",
       "    }\n",
       "\n",
       "    .dataframe tbody tr th {\n",
       "        vertical-align: top;\n",
       "    }\n",
       "\n",
       "    .dataframe thead th {\n",
       "        text-align: right;\n",
       "    }\n",
       "</style>\n",
       "<table border=\"1\" class=\"dataframe\">\n",
       "  <thead>\n",
       "    <tr style=\"text-align: right;\">\n",
       "      <th>JAN07THENROLLMENT</th>\n",
       "      <th>ElectedJan07th</th>\n",
       "      <th>Missing</th>\n",
       "      <th>Not Elected</th>\n",
       "    </tr>\n",
       "    <tr>\n",
       "      <th>Enrollment</th>\n",
       "      <th></th>\n",
       "      <th></th>\n",
       "      <th></th>\n",
       "    </tr>\n",
       "  </thead>\n",
       "  <tbody>\n",
       "    <tr>\n",
       "      <th>ElectedJan07th</th>\n",
       "      <td>12525</td>\n",
       "      <td>87</td>\n",
       "      <td>1</td>\n",
       "    </tr>\n",
       "    <tr>\n",
       "      <th>Not Elected</th>\n",
       "      <td>1444</td>\n",
       "      <td>1797</td>\n",
       "      <td>17832</td>\n",
       "    </tr>\n",
       "  </tbody>\n",
       "</table>\n",
       "</div>"
      ],
      "text/plain": [
       "JAN07THENROLLMENT  ElectedJan07th  Missing  Not Elected\n",
       "Enrollment                                             \n",
       "ElectedJan07th              12525       87            1\n",
       "Not Elected                  1444     1797        17832"
      ]
     },
     "execution_count": 12,
     "metadata": {},
     "output_type": "execute_result"
    }
   ],
   "source": [
    "pd.crosstab(data_check.Enrollment, \n",
    "            data_check.JAN07THENROLLMENT)"
   ]
  },
  {
   "cell_type": "code",
   "execution_count": 13,
   "metadata": {
    "scrolled": true
   },
   "outputs": [
    {
     "name": "stdout",
     "output_type": "stream",
     "text": [
      "Treatment Group: 0\n",
      "JAN07THENROLLMENT  ElectedJan07th  Missing  Not Elected\n",
      "Enrollment                                             \n",
      "ElectedJan07th               4194       31            0\n",
      "Not Elected                   476      590         5965\n",
      "-------------------------------------------------------\n",
      "Treatment Group: 1\n",
      "JAN07THENROLLMENT  ElectedJan07th  Missing  Not Elected\n",
      "Enrollment                                             \n",
      "ElectedJan07th               4165       28            1\n",
      "Not Elected                   467      617         5937\n",
      "-------------------------------------------------------\n",
      "Treatment Group: 2\n",
      "JAN07THENROLLMENT  ElectedJan07th  Missing  Not Elected\n",
      "Enrollment                                             \n",
      "ElectedJan07th               4166       28            0\n",
      "Not Elected                   501      590         5930\n",
      "-------------------------------------------------------\n"
     ]
    }
   ],
   "source": [
    "for i in range(0,3):\n",
    "    print('Treatment Group:', i)\n",
    "    print(pd.crosstab(data_check[data_check.treatment_real==i].Enrollment, \n",
    "                      data_check[data_check.treatment_real==i].JAN07THENROLLMENT))\n",
    "    print('-------------------------------------------------------')"
   ]
  },
  {
   "cell_type": "markdown",
   "metadata": {},
   "source": [
    "## Push files for analysis. February = confirmatory, March = exploratory"
   ]
  },
  {
   "cell_type": "code",
   "execution_count": 14,
   "metadata": {},
   "outputs": [],
   "source": [
    "df_Feb_merge.to_csv(os.path.join(DATA_DIR, 'confirmatory_outcomes.csv'), index = False)\n",
    "df_March_merge.to_csv(os.path.join(DATA_DIR, 'exploratory_outcomes.csv'), index = False)"
   ]
  },
  {
   "cell_type": "markdown",
   "metadata": {},
   "source": [
    "# Jan 7 Baseline Info for Report"
   ]
  },
  {
   "cell_type": "code",
   "execution_count": 15,
   "metadata": {},
   "outputs": [
    {
     "data": {
      "text/plain": [
       "Not Elected       0.560751\n",
       "ElectedJan07th    0.439249\n",
       "Name: JAN07THENROLLMENT, dtype: float64"
      ]
     },
     "execution_count": 15,
     "metadata": {},
     "output_type": "execute_result"
    }
   ],
   "source": [
    "df_Jan107_merge.JAN07THENROLLMENT.value_counts(normalize = True)"
   ]
  },
  {
   "cell_type": "code",
   "execution_count": 16,
   "metadata": {},
   "outputs": [
    {
     "data": {
      "text/plain": [
       "Not Elected       0.586651\n",
       "ElectedJan22nd    0.413349\n",
       "Name: JAN22NDENROLLMENT, dtype: float64"
      ]
     },
     "execution_count": 16,
     "metadata": {},
     "output_type": "execute_result"
    }
   ],
   "source": [
    "d122.JAN22NDENROLLMENT.value_counts(normalize=True)"
   ]
  },
  {
   "cell_type": "code",
   "execution_count": 17,
   "metadata": {},
   "outputs": [
    {
     "data": {
      "text/plain": [
       "count     31802.000000\n",
       "mean      76200.745368\n",
       "std       29811.800857\n",
       "min       15171.000000\n",
       "25%       55462.000000\n",
       "50%       73295.000000\n",
       "75%       93279.000000\n",
       "max      312965.501000\n",
       "Name: Annual Rt, dtype: float64"
      ]
     },
     "execution_count": 17,
     "metadata": {},
     "output_type": "execute_result"
    }
   ],
   "source": [
    "df_Jan107_merge['Annual Rt'].describe()"
   ]
  },
  {
   "cell_type": "code",
   "execution_count": 18,
   "metadata": {},
   "outputs": [],
   "source": [
    "#Calculate the maximum allowable contributions\n",
    "def calculateMaxContribution(df: pd.DataFrame):\n",
    "    df['max_contribution'] = np.where(df['Age'] < 50, 18500, 24500)\n",
    "\n",
    "## flags for people who's contributions are above a certain amount\n",
    "def flagContributions(df: pd.DataFrame,\n",
    "                     amount_threshold: int,\n",
    "                     percentage_threshold: int,\n",
    "                     baseline_date: str):\n",
    "\n",
    "    ## baselines\n",
    "    df[\"assume_amounterror_\" + baseline_date] = \\\n",
    "        np.where(df['FLATAMOUNTBEFORETAX'] >= amount_threshold, 1, 0)\n",
    "    df[\"assume_percerror_\" + baseline_date] = \\\n",
    "        np.where(df['PERCENTAGEBEFORETAX'] >= percentage_threshold, 1, 0)"
   ]
  },
  {
   "cell_type": "code",
   "execution_count": 19,
   "metadata": {},
   "outputs": [],
   "source": [
    "# There were a few people who contributed over $18000 per maycheck\n",
    "# Making the assumption here that he/she meant to contribute $18,500 in a year, not in a paycheck\n",
    "\n",
    "# People only do this for the flat amounts BEFORE tax, not AFTER\n",
    "# For flat tax amounts, if the amount contributed is greater than or equal to $18000,\n",
    "# take that amount and divide by 26 paychecks\n",
    "# Keeping as 'b', because we want to drop them later as sensitivity analysis\n",
    "\n",
    "def fixContributions(df: pd.DataFrame,\n",
    "                     baseline_date: str):\n",
    "\n",
    "    ## Fix flat amounts based on either type of error \n",
    "    df['FLATAMOUNTBEFORETAX_' + baseline_date + \"b\"] = \\\n",
    "        np.where(df[\"assume_amounterror_\" + baseline_date] == 1, \n",
    "                 round(df['FLATAMOUNTBEFORETAX']/26,2), \n",
    "                 np.where(df[\"assume_percerror_\" + baseline_date] == 1, \n",
    "                 round(df.max_contribution/26,2),\n",
    "                 df['FLATAMOUNTBEFORETAX']))\n",
    "    \n",
    "    ## Fix percentages for those who are coded as percentage error\n",
    "    ## code them to 0 percent contribution (after fixing their flat amount)\n",
    "    df['PERCENTAGEBEFORETAX_' + baseline_date + \"b\"] = \\\n",
    "        np.where(df[\"assume_percerror_\" + baseline_date] == 1,  0, df['PERCENTAGEBEFORETAX'])"
   ]
  },
  {
   "cell_type": "code",
   "execution_count": 20,
   "metadata": {},
   "outputs": [],
   "source": [
    "def calculateContributions(df: pd.DataFrame,\n",
    "                           baseline_date: str):\n",
    "    '''\n",
    "    Set up for whether employees increased their salaries.\n",
    "    We are ignoring the difference between before tax contribution and after tax contributions for percentage contributions\n",
    "    because we would have to make assumptions about the type of filers and exemptions that the employee is claiming, which \n",
    "    we do not have any information about.\n",
    "    '''\n",
    "    \n",
    "    #Percentage of Salary\n",
    "    df['PERCENTAGE_' + baseline_date] = \\\n",
    "        df['PERCENTAGEBEFORETAX_' + baseline_date + 'b'] + df['PERCENTAGEAFTERTAX']\n",
    "  \n",
    "    \n",
    "    #Do the same for Flat amounts\n",
    "    df['FLATAMOUNT_' + baseline_date] = \\\n",
    "        df['FLATAMOUNTBEFORETAX_' + baseline_date +'b'] + df['FLATAMOUNTAFTERTAX']\n",
    "    df['FLATAMOUNT_' + baseline_date] = df['FLATAMOUNT_' + baseline_date].fillna(0)\n",
    "\n",
    "\n",
    "    #Calculate the number of paychecks\n",
    "    #If the number of paychecks is less than 26, then that means that the employee would hit their contribution early \n",
    "    #Which means that even if they increased their contribution, they would still get the same amount\n",
    "    df['num_paychecks_' + baseline_date] = np.where(df['FLATAMOUNT_' + baseline_date] > 0, \n",
    "                                           np.round((df['max_contribution']/df['FLATAMOUNT_' + baseline_date]),2),\n",
    "                                           0)"
   ]
  },
  {
   "cell_type": "code",
   "execution_count": 21,
   "metadata": {},
   "outputs": [],
   "source": [
    "#Not the most necessary; but I wanted to make sure I ended up with the same same numbers. \n",
    "\n",
    "def calculateAnnualContribution(df: pd.DataFrame, \n",
    "                                date: str) -> pd.Series:\n",
    "    \"\"\"\n",
    "    Calculate the total annualized contribution from the data frame.\n",
    "    Some people contribute a flat amount per paycheck. Some people\n",
    "    contribute a flat amount per paycheck, so we have to do some\n",
    "    switching:\n",
    "        * If percent contributed per paycheck is positive,\n",
    "          return percent * salary\n",
    "        * If the number of paychecks with a contribution is <= 26,\n",
    "          we assume the person hit the maximum contribution before\n",
    "          the end of the year, and so return the maximum contribution.\n",
    "        * If the number of paychecks is more than 26, we're bleeding over\n",
    "          the data and so return 26 * the flat rate people pay.\n",
    "    \"\"\"\n",
    "    answer_pct = df['PERCENTAGE_' + date] / 100 * df['Annual Rt']\n",
    "    answer_max = df['max_contribution']\n",
    "    answer_flat = df['FLATAMOUNT_' + date] * 26\n",
    "    \n",
    "    answer = answer_pct\n",
    "    done_filter = df['PERCENTAGE_' + date] > 0\n",
    "    answer *= done_filter\n",
    "    \n",
    "    this_filter = (df['num_paychecks_' + date] == 0) & ~done_filter\n",
    "    answer[this_filter] = 0\n",
    "    done_filter |= this_filter\n",
    "    \n",
    "    this_filter = (df['num_paychecks_' + date] <= 26) & ~done_filter\n",
    "    answer += answer_max * this_filter\n",
    "    done_filter |= this_filter\n",
    "    \n",
    "    this_filter = ~done_filter\n",
    "    answer += answer_flat * this_filter\n",
    "    return answer"
   ]
  },
  {
   "cell_type": "code",
   "execution_count": 22,
   "metadata": {},
   "outputs": [],
   "source": [
    "# Apply to Feb and March\n",
    "calculateMaxContribution(df_Jan107_merge)\n",
    "\n",
    "flagContributions(df_Jan107_merge,\n",
    "                  amount_threshold = 18000,\n",
    "                  percentage_threshold = 100,\n",
    "                  baseline_date = \"0107\")\n",
    "\n",
    "fixContributions(df_Jan107_merge,\n",
    "                 baseline_date=\"0107\")\n",
    "\n",
    "calculateContributions(df_Jan107_merge,\n",
    "                 baseline_date=\"0107\")\n",
    "\n",
    "df_Jan107_merge['Annual Contribution'] = calculateAnnualContribution(df_Jan107_merge, \"0107\")"
   ]
  },
  {
   "cell_type": "code",
   "execution_count": 23,
   "metadata": {},
   "outputs": [
    {
     "data": {
      "text/plain": [
       "count    13969.000000\n",
       "mean      4670.444292\n",
       "std       5666.377680\n",
       "min          0.000000\n",
       "25%       1300.000000\n",
       "50%       2600.000000\n",
       "75%       5200.000000\n",
       "max      24500.000000\n",
       "Name: Annual Contribution, dtype: float64"
      ]
     },
     "execution_count": 23,
     "metadata": {},
     "output_type": "execute_result"
    }
   ],
   "source": [
    "enrolled = df_Jan107_merge[df_Jan107_merge.JAN07THENROLLMENT == 'ElectedJan07th'].copy()\n",
    "enrolled['Annual Contribution'].describe()"
   ]
  },
  {
   "cell_type": "code",
   "execution_count": 24,
   "metadata": {},
   "outputs": [
    {
     "data": {
      "text/html": [
       "<div>\n",
       "<style scoped>\n",
       "    .dataframe tbody tr th:only-of-type {\n",
       "        vertical-align: middle;\n",
       "    }\n",
       "\n",
       "    .dataframe tbody tr th {\n",
       "        vertical-align: top;\n",
       "    }\n",
       "\n",
       "    .dataframe thead th {\n",
       "        text-align: right;\n",
       "    }\n",
       "</style>\n",
       "<table border=\"1\" class=\"dataframe\">\n",
       "  <thead>\n",
       "    <tr style=\"text-align: right;\">\n",
       "      <th></th>\n",
       "      <th>count</th>\n",
       "      <th>mean</th>\n",
       "      <th>std</th>\n",
       "      <th>min</th>\n",
       "      <th>25%</th>\n",
       "      <th>50%</th>\n",
       "      <th>75%</th>\n",
       "      <th>max</th>\n",
       "    </tr>\n",
       "    <tr>\n",
       "      <th>treatment_real</th>\n",
       "      <th></th>\n",
       "      <th></th>\n",
       "      <th></th>\n",
       "      <th></th>\n",
       "      <th></th>\n",
       "      <th></th>\n",
       "      <th></th>\n",
       "      <th></th>\n",
       "    </tr>\n",
       "  </thead>\n",
       "  <tbody>\n",
       "    <tr>\n",
       "      <th>0.0</th>\n",
       "      <td>10635.0</td>\n",
       "      <td>2050.337489</td>\n",
       "      <td>4372.492890</td>\n",
       "      <td>0.0</td>\n",
       "      <td>0.0</td>\n",
       "      <td>0.0</td>\n",
       "      <td>2080.0</td>\n",
       "      <td>24500.0</td>\n",
       "    </tr>\n",
       "    <tr>\n",
       "      <th>1.0</th>\n",
       "      <td>10570.0</td>\n",
       "      <td>2007.040755</td>\n",
       "      <td>4322.272701</td>\n",
       "      <td>0.0</td>\n",
       "      <td>0.0</td>\n",
       "      <td>0.0</td>\n",
       "      <td>1950.0</td>\n",
       "      <td>24500.0</td>\n",
       "    </tr>\n",
       "    <tr>\n",
       "      <th>2.0</th>\n",
       "      <td>10597.0</td>\n",
       "      <td>2096.978043</td>\n",
       "      <td>4541.503389</td>\n",
       "      <td>0.0</td>\n",
       "      <td>0.0</td>\n",
       "      <td>0.0</td>\n",
       "      <td>2080.0</td>\n",
       "      <td>24500.0</td>\n",
       "    </tr>\n",
       "  </tbody>\n",
       "</table>\n",
       "</div>"
      ],
      "text/plain": [
       "                  count         mean          std  min  25%  50%     75%  \\\n",
       "treatment_real                                                             \n",
       "0.0             10635.0  2050.337489  4372.492890  0.0  0.0  0.0  2080.0   \n",
       "1.0             10570.0  2007.040755  4322.272701  0.0  0.0  0.0  1950.0   \n",
       "2.0             10597.0  2096.978043  4541.503389  0.0  0.0  0.0  2080.0   \n",
       "\n",
       "                    max  \n",
       "treatment_real           \n",
       "0.0             24500.0  \n",
       "1.0             24500.0  \n",
       "2.0             24500.0  "
      ]
     },
     "execution_count": 24,
     "metadata": {},
     "output_type": "execute_result"
    }
   ],
   "source": [
    "df_Jan107_merge.groupby('treatment_real')['Annual Contribution'].describe()"
   ]
  },
  {
   "cell_type": "code",
   "execution_count": 25,
   "metadata": {},
   "outputs": [
    {
     "data": {
      "text/plain": [
       "count    13969.000000\n",
       "mean         5.130531\n",
       "std          5.308053\n",
       "min          0.000000\n",
       "25%          1.608791\n",
       "50%          3.314466\n",
       "75%          6.677625\n",
       "max         69.552005\n",
       "Name: pct_of_salary, dtype: float64"
      ]
     },
     "execution_count": 25,
     "metadata": {},
     "output_type": "execute_result"
    }
   ],
   "source": [
    "enrolled['pct_of_salary'] = enrolled['Annual Contribution']/enrolled['Annual Rt']*100\n",
    "enrolled['pct_of_salary'].describe()"
   ]
  }
 ],
 "metadata": {
  "kernelspec": {
   "display_name": "Python 3",
   "language": "python",
   "name": "python3"
  },
  "language_info": {
   "codemirror_mode": {
    "name": "ipython",
    "version": 3
   },
   "file_extension": ".py",
   "mimetype": "text/x-python",
   "name": "python",
   "nbconvert_exporter": "python",
   "pygments_lexer": "ipython3",
   "version": "3.7.6"
  }
 },
 "nbformat": 4,
 "nbformat_minor": 2
}
