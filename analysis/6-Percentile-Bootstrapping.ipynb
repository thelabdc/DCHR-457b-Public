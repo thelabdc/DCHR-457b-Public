{
 "cells": [
  {
   "cell_type": "code",
   "execution_count": 1,
   "metadata": {},
   "outputs": [],
   "source": [
    "import sys\n",
    "sys.path.append('..')\n",
    "\n",
    "import copy\n",
    "import os\n",
    "from datetime import datetime\n",
    "from typing import Optional, Tuple\n",
    "\n",
    "import matplotlib.pyplot as plt\n",
    "import numpy as np\n",
    "import pandas as pd\n",
    "import seaborn as sns\n",
    "\n",
    "%matplotlib inline\n",
    "\n",
    "from scripts import ab_test, perform_ab\n",
    "\n",
    "DATA_DIR = os.path.join('..', 'data')\n",
    "\n",
    "from IPython.core.interactiveshell import InteractiveShell\n",
    "InteractiveShell.ast_node_interactivity = \"all\""
   ]
  },
  {
   "cell_type": "code",
   "execution_count": 2,
   "metadata": {},
   "outputs": [
    {
     "name": "stderr",
     "output_type": "stream",
     "text": [
      "/opt/conda/lib/python3.6/site-packages/IPython/core/interactiveshell.py:2785: DtypeWarning: Columns (29,30,34,35,46,47) have mixed types. Specify dtype option on import or set low_memory=False.\n",
      "  interactivity=interactivity, compiler=compiler, result=result)\n"
     ]
    }
   ],
   "source": [
    "#Grab the February outcomes for employees enrolled at the baseline only. This is our confirmatory data\n",
    "\n",
    "enrolled_baseline = pd.read_csv(os.path.join(DATA_DIR,'Feb_enrolled_at_baseline.csv'), dtype={'EMPLID': str})"
   ]
  },
  {
   "cell_type": "markdown",
   "metadata": {},
   "source": [
    "### Prep for Bootstrapping"
   ]
  },
  {
   "cell_type": "code",
   "execution_count": 3,
   "metadata": {},
   "outputs": [],
   "source": [
    "#create two functions to be applied to our dataframe\n",
    "\n",
    "def calculate_annual_contribution(df: pd.DataFrame) -> pd.Series:\n",
    "    \"\"\"\n",
    "    Calculate the total annualized contribution from the data frame.\n",
    "    Some people contribute a flat amount per paycheck. Some people\n",
    "    contribute a flat amount per paycheck, so we have to do some\n",
    "    switching:\n",
    "        * If percent contributed per paycheck is positive,\n",
    "          return percent * salary\n",
    "        * If the number of paychecks with a contribution is <= 26,\n",
    "          we assume the person hit the maximum contribution before\n",
    "          the end of the year, and so return the maximum contribution.\n",
    "        * If the number of paychecks is more than 26, we're bleeding over\n",
    "          the data and so return 26 * the flat rate people pay.\n",
    "    \"\"\"\n",
    "        \n",
    "    #Kevin's\n",
    "    answer_pct = df['PERCENTAGE_0218'] / 100 * df['Annual Rt']\n",
    "    answer_max = df['max_contribution']\n",
    "    answer_flat = df['FLATAMOUNT_0218'] * 26\n",
    "    \n",
    "    answer = answer_pct\n",
    "    done_filter = df['PERCENTAGE_0218'] > 0\n",
    "    answer *= done_filter\n",
    "    \n",
    "    this_filter = (df['num_paychecks_0218'] == 0) & ~done_filter\n",
    "    answer[this_filter] = 0\n",
    "    done_filter |= this_filter\n",
    "    \n",
    "    this_filter = (df['num_paychecks_0218'] <= 26) & ~done_filter\n",
    "    answer += answer_max * this_filter\n",
    "    done_filter |= this_filter\n",
    "    \n",
    "    this_filter = ~done_filter\n",
    "    answer += answer_flat * this_filter\n",
    "    return answer\n",
    "\n",
    "          \n",
    "def calculate_savings_rt(df: pd.DataFrame) -> pd.Series:\n",
    "    \"\"\"\n",
    "    Return the total savings rate based on salary *at the time\n",
    "    we pulled the data*.\n",
    "    \"\"\"\n",
    "    answer = (df['PERCENTAGE_0218'] / 100) * (df['PERCENTAGE_0218'] > 0)\n",
    "    answer += (df['ANNUAL_FLAT_AMT'] / df['Annual Rt']) * (df['PERCENTAGE_0218'] <= 0) * 100\n",
    "    return answer"
   ]
  },
  {
   "cell_type": "code",
   "execution_count": 4,
   "metadata": {},
   "outputs": [],
   "source": [
    "enrolled_baseline['PERCENTAGE_0218'] = enrolled_baseline['PERCENTAGE_0218'].fillna(0)\n",
    "# Apply the functions to our dataframe\n",
    "enrolled_baseline['ANNUAL_FLAT_AMT'] = calculate_annual_contribution(enrolled_baseline)\n",
    "enrolled_baseline['SAVINGS_RATE'] = calculate_savings_rt(enrolled_baseline)"
   ]
  },
  {
   "cell_type": "code",
   "execution_count": 5,
   "metadata": {},
   "outputs": [],
   "source": [
    "def split_groups(df: pd.DataFrame, combine_arms = False) -> Tuple[pd.DataFrame, pd.DataFrame, pd.DataFrame]:\n",
    "    \"\"\"\n",
    "    Split the data into treatment and control groups\n",
    "    \n",
    "    If combine_arms = False, returns tx arms separately\n",
    "    If combine_arms = True, returns combined arms\n",
    "    \n",
    "    Returns:\n",
    "        Either a two tuple of data frames: control and treatment, or\n",
    "        A three tuple of data frames: control, basic, simple_choice\n",
    "    \"\"\"\n",
    "    control = df[df.treatment_real == 0]\n",
    "    basic = df[df.treatment_real == 1]\n",
    "    simple_choice = df[df.treatment_real == 2]\n",
    "    if combine_arms == False:\n",
    "        return control, basic, simple_choice\n",
    "    elif combine_arms == True:\n",
    "        treatment = pd.concat([basic, simple_choice])\n",
    "        return control, treatment\n"
   ]
  },
  {
   "cell_type": "code",
   "execution_count": 6,
   "metadata": {},
   "outputs": [],
   "source": [
    "#split data into treatment and control\n",
    "control_2, treatment_2 = perform_ab.split_only2_groups(enrolled_baseline)\n",
    "\n",
    "control_3, basic_3, simple_choice_3 =  perform_ab.split_groups(enrolled_baseline)"
   ]
  },
  {
   "cell_type": "code",
   "execution_count": 7,
   "metadata": {},
   "outputs": [
    {
     "data": {
      "text/plain": [
       "(9228, 104)"
      ]
     },
     "execution_count": 7,
     "metadata": {},
     "output_type": "execute_result"
    },
    {
     "data": {
      "text/plain": [
       "(4627, 104)"
      ]
     },
     "execution_count": 7,
     "metadata": {},
     "output_type": "execute_result"
    },
    {
     "data": {
      "text/plain": [
       "(4627, 104)"
      ]
     },
     "execution_count": 7,
     "metadata": {},
     "output_type": "execute_result"
    }
   ],
   "source": [
    "treatment_2.shape\n",
    "control_2.shape\n",
    "control_3.shape"
   ]
  },
  {
   "cell_type": "markdown",
   "metadata": {},
   "source": [
    "# Test Time"
   ]
  },
  {
   "cell_type": "markdown",
   "metadata": {},
   "source": [
    "##### 2 functions here: \n",
    "\n",
    "    - get_estimate\n",
    "          - A: control \n",
    "          - B: treatment\n",
    "          - draws: how many samples are drawn\n",
    "          - percentile: what percentile we wanted to draw from\n",
    "          \n",
    "    - run_continuous_ab_no_distrib\n",
    "          - draws: how many samples are drawn \n",
    "          - n_iterations: Big \"S\" in our equation. how many times we want to run the trials\n",
    "          - percentile: what percentile we wanted to draw from\n",
    "          - col_of_interest: wanted the ability to plug in either 'SAVINGS_RATE' or 'ANNUAL_FLAT_AMT' (didn't decide yet)\n",
    "          - n_treat_groups: just put in how many groups there are, for the purposes of spitting out info\n",
    "              2 - for control group versus either email\n",
    "              3 - for basic email versus simplified choice email"
   ]
  },
  {
   "cell_type": "code",
   "execution_count": 8,
   "metadata": {},
   "outputs": [],
   "source": [
    "def get_estimate(A: np.ndarray, B: np.ndarray,\n",
    "                 draws: int, percentile: float,\n",
    "                 n_iterations: int,\n",
    "                 seed: Optional[int] = 1234\n",
    "                 ) -> Tuple[np.ndarray, np.ndarray]:\n",
    "    \"\"\"\n",
    "    Draw `draws` number of samples (with replacement) from `A` (control)\n",
    "    and `B` (treatment) and return the `percentile` value from those draws.\n",
    "    Does this `n_iterations` times and returns two arrays of size\n",
    "    `n_iterations` with the answers.\n",
    "    \"\"\"\n",
    "    \n",
    "    random = np.random.RandomState(seed)\n",
    "    a_ = random.choice(A, replace=True, size=(draws, n_iterations))\n",
    "    b_ = random.choice(B, replace=True, size=(draws, n_iterations))\n",
    "\n",
    "    # From the x samples (a_, b_) as drawn from our orignal set, get the percentile\n",
    "    r_a = np.percentile(a_, percentile, axis=1)\n",
    "    r_b = np.percentile(b_, percentile, axis=1)\n",
    "    \n",
    "    return r_a, r_b"
   ]
  },
  {
   "cell_type": "code",
   "execution_count": 9,
   "metadata": {},
   "outputs": [],
   "source": [
    "def run_continuous_ab_no_distrib(draws: int, \n",
    "                                 n_iterations: int, \n",
    "                                 percentile: float,\n",
    "                                 col_of_interest: str, \n",
    "                                 n_treat_groups: int) -> pd.DataFrame:\n",
    "    \n",
    "    #Determine what is considered treatment and control groups\n",
    "    if n_treat_groups == 2:\n",
    "        control = control_2\n",
    "        treatment = treatment_2\n",
    "        print('A: Control group, no email')\n",
    "        print('B: Treatment group, either email')\n",
    "        \n",
    "    else:\n",
    "        control = basic_3\n",
    "        treatment = simple_choice_3\n",
    "        print('A is the basic email')\n",
    "        print('B is the simplified choice email')\n",
    "        \n",
    "    print()\n",
    "    print('Length of A', len(control))\n",
    "    print('Length of B', len(treatment))\n",
    "    print()\n",
    "    print('Number of Draws:', draws)\n",
    "   \n",
    "    \n",
    "    ### ------------------------------------- DRAWS ------------------------------------------- ###    \n",
    "    # initialize the vectors for which we will be dumping our data into\n",
    "    a_array, b_array = get_estimate(A=control[col_of_interest].values, \n",
    "                                    B=treatment[col_of_interest].values, \n",
    "                                    draws=draws, \n",
    "                                    percentile=percentile,\n",
    "                                    n_iterations=n_iterations)\n",
    "\n",
    "    # Convert results to dataframe\n",
    "    df = pd.DataFrame({'control': a_array, 'treatment': b_array})\n",
    "\n",
    "    # Create a column of booleans for the whether b is greater than a \n",
    "    df['b>a'] = df.treatment > df.control\n",
    "    df['a>b'] = df.control > df.treatment # just out of curiousity\n",
    "    \n",
    "    print()\n",
    "    print('Probability that B > A:', np.mean(df['b>a']))\n",
    "    print('Average Savings, A:', round(np.mean(df.control), 5))\n",
    "    print('Average Savings, B:', round(np.mean(df.treatment), 5))\n",
    "    \n",
    "    return df"
   ]
  },
  {
   "cell_type": "markdown",
   "metadata": {},
   "source": [
    "# Savings Rate"
   ]
  },
  {
   "cell_type": "markdown",
   "metadata": {},
   "source": [
    "#### RQ5: Among employees continuing their enrollments in 457(b) accounts, how likely is it that the median savings is greater among those who receive a behaviorally-informed email than among those who do not?"
   ]
  },
  {
   "cell_type": "code",
   "execution_count": 10,
   "metadata": {},
   "outputs": [
    {
     "name": "stdout",
     "output_type": "stream",
     "text": [
      "A: Control group, no email\n",
      "B: Treatment group, either email\n",
      "\n",
      "Length of A 4627\n",
      "Length of B 9228\n",
      "\n",
      "Number of Draws: 4627\n",
      "\n",
      "Probability that B > A: 0.0\n",
      "Average Savings, A: 100.0\n",
      "Average Savings, B: 100.0\n"
     ]
    }
   ],
   "source": [
    "RQ5_flat = run_continuous_ab_no_distrib(draws=len(control_2), \n",
    "                                        n_iterations=10000, \n",
    "                                        percentile=50, \n",
    "                                        col_of_interest='FLATAMOUNT_0218', \n",
    "                                        n_treat_groups = 2)"
   ]
  },
  {
   "cell_type": "code",
   "execution_count": 11,
   "metadata": {},
   "outputs": [
    {
     "name": "stdout",
     "output_type": "stream",
     "text": [
      "A: Control group, no email\n",
      "B: Treatment group, either email\n",
      "\n",
      "Length of A 4627\n",
      "Length of B 9228\n",
      "\n",
      "Number of Draws: 4627\n",
      "\n",
      "Probability that B > A: 0.402204452129\n",
      "Average Savings, A: 3.32845\n",
      "Average Savings, B: 3.32014\n"
     ]
    }
   ],
   "source": [
    "RQ5_rate = run_continuous_ab_no_distrib(draws=len(control_2), \n",
    "                                      n_iterations=10000, \n",
    "                                      percentile=50, \n",
    "                                      col_of_interest='SAVINGS_RATE', \n",
    "                                      n_treat_groups = 2)"
   ]
  },
  {
   "cell_type": "code",
   "execution_count": 12,
   "metadata": {},
   "outputs": [
    {
     "name": "stdout",
     "output_type": "stream",
     "text": [
      "A: Control group, no email\n",
      "B: Treatment group, either email\n",
      "\n",
      "Length of A 4627\n",
      "Length of B 9228\n",
      "\n",
      "Number of Draws: 4627\n",
      "\n",
      "Probability that B > A: 0.726820834234\n",
      "Average Savings, A: 6.69272\n",
      "Average Savings, B: 6.77638\n"
     ]
    }
   ],
   "source": [
    "RQ5_rate = run_continuous_ab_no_distrib(draws=len(control_2), \n",
    "                                      n_iterations=10000, \n",
    "                                      percentile=75, \n",
    "                                      col_of_interest='SAVINGS_RATE', \n",
    "                                      n_treat_groups = 2)"
   ]
  },
  {
   "cell_type": "code",
   "execution_count": 13,
   "metadata": {},
   "outputs": [
    {
     "name": "stdout",
     "output_type": "stream",
     "text": [
      "A: Control group, no email\n",
      "B: Treatment group, either email\n",
      "\n",
      "Length of A 4627\n",
      "Length of B 9228\n",
      "\n",
      "Number of Draws: 4627\n",
      "\n",
      "Probability that B > A: 0.567970607305\n",
      "Average Savings, A: 8.02572\n",
      "Average Savings, B: 8.04934\n"
     ]
    }
   ],
   "source": [
    "RQ5_rate = run_continuous_ab_no_distrib(draws=len(control_2), \n",
    "                                      n_iterations=10000, \n",
    "                                      percentile=80, \n",
    "                                      col_of_interest='SAVINGS_RATE', \n",
    "                                      n_treat_groups = 2)"
   ]
  },
  {
   "cell_type": "code",
   "execution_count": 17,
   "metadata": {},
   "outputs": [
    {
     "name": "stdout",
     "output_type": "stream",
     "text": [
      "A: Control group, no email\n",
      "B: Treatment group, either email\n",
      "\n",
      "Length of A 4627\n",
      "Length of B 9228\n",
      "\n",
      "Number of Draws: 4627\n",
      "\n",
      "Probability that B > A: 0.881996974281\n",
      "Average Savings, A: 12.37536\n",
      "Average Savings, B: 12.71483\n"
     ]
    }
   ],
   "source": [
    "RQ5_rate = run_continuous_ab_no_distrib(draws=len(control_2), \n",
    "                                      n_iterations=10000, \n",
    "                                      percentile=90, \n",
    "                                      col_of_interest='SAVINGS_RATE', \n",
    "                                      n_treat_groups = 2)"
   ]
  },
  {
   "cell_type": "code",
   "execution_count": 18,
   "metadata": {},
   "outputs": [
    {
     "name": "stdout",
     "output_type": "stream",
     "text": [
      "A: Control group, no email\n",
      "B: Treatment group, either email\n",
      "\n",
      "Length of A 4627\n",
      "Length of B 9228\n",
      "\n",
      "Number of Draws: 4627\n",
      "\n",
      "Probability that B > A: 0.523449319213\n",
      "Average Savings, A: 9.85528\n",
      "Average Savings, B: 9.85961\n"
     ]
    }
   ],
   "source": [
    "RQ5_rate = run_continuous_ab_no_distrib(draws=len(control_2), \n",
    "                                      n_iterations=10000, \n",
    "                                      percentile=85, \n",
    "                                      col_of_interest='SAVINGS_RATE', \n",
    "                                      n_treat_groups = 2)"
   ]
  },
  {
   "cell_type": "code",
   "execution_count": 19,
   "metadata": {},
   "outputs": [
    {
     "name": "stdout",
     "output_type": "stream",
     "text": [
      "A: Control group, no email\n",
      "B: Treatment group, either email\n",
      "\n",
      "Length of A 4627\n",
      "Length of B 9228\n",
      "\n",
      "Number of Draws: 4627\n",
      "\n",
      "Probability that B > A: 0.630646207046\n",
      "Average Savings, A: 16.53077\n",
      "Average Savings, B: 16.63191\n"
     ]
    }
   ],
   "source": [
    "RQ5_rate = run_continuous_ab_no_distrib(draws=len(control_2), \n",
    "                                      n_iterations=10000, \n",
    "                                      percentile=95, \n",
    "                                      col_of_interest='SAVINGS_RATE', \n",
    "                                      n_treat_groups = 2)"
   ]
  },
  {
   "cell_type": "markdown",
   "metadata": {},
   "source": [
    "#### RQ6: Among employees continuing their enrollments in 457(b) accounts, how likely is it that the median savings is greater among those who receive an email with a simplified choice rather than one without the simplification?"
   ]
  },
  {
   "cell_type": "code",
   "execution_count": 43,
   "metadata": {},
   "outputs": [
    {
     "name": "stdout",
     "output_type": "stream",
     "text": [
      "A is the basic email\n",
      "B is the simplified choice email\n",
      "\n",
      "Length of A 4603\n",
      "Length of B 4629\n",
      "\n",
      "Number of Draws: 4818\n",
      "\n",
      "Probability that B > A: 0.0\n",
      "Average Savings, A: 100.0\n",
      "Average Savings, B: 100.0\n"
     ]
    }
   ],
   "source": [
    "RQ6_flat = run_continuous_ab_no_distrib(draws=len(control_2), \n",
    "                                      n_iterations=10000, \n",
    "                                      percentile=50, \n",
    "                                      col_of_interest='FLATAMOUNT_0218', \n",
    "                                      n_treat_groups = 3)"
   ]
  },
  {
   "cell_type": "code",
   "execution_count": 44,
   "metadata": {},
   "outputs": [
    {
     "name": "stdout",
     "output_type": "stream",
     "text": [
      "A is the basic email\n",
      "B is the simplified choice email\n",
      "\n",
      "Length of A 4603\n",
      "Length of B 4629\n",
      "\n",
      "Number of Draws: 4818\n",
      "\n",
      "Probability that B > A: 0.272312162723\n",
      "Average Savings, A: 3.33458\n",
      "Average Savings, B: 3.30449\n"
     ]
    }
   ],
   "source": [
    "RQ6_rate = run_continuous_ab_no_distrib(draws=len(control_2), \n",
    "                                      n_iterations=10000, \n",
    "                                      percentile=50, \n",
    "                                      col_of_interest='SAVINGS_RATE', \n",
    "                                      n_treat_groups = 3)"
   ]
  },
  {
   "cell_type": "markdown",
   "metadata": {},
   "source": [
    "#### RQ7: Among employees continuing their enrollments in 457(b) accounts, how likely is it that the 25th percentile of savings is greater among those who receive a behaviorally-informed email than among those who do not?"
   ]
  },
  {
   "cell_type": "code",
   "execution_count": 45,
   "metadata": {},
   "outputs": [
    {
     "name": "stdout",
     "output_type": "stream",
     "text": [
      "A: Control group, no email\n",
      "B: Treatment group, either email\n",
      "\n",
      "Length of A 4818\n",
      "Length of B 9232\n",
      "\n",
      "Number of Draws: 4818\n",
      "\n",
      "Probability that B > A: 0.0267745952677\n",
      "Average Savings, A: 49.90118\n",
      "Average Savings, B: 49.97014\n"
     ]
    }
   ],
   "source": [
    "RQ7_flat = run_continuous_ab_no_distrib(draws=len(control_2), \n",
    "                                      n_iterations=10000, \n",
    "                                      percentile=25, \n",
    "                                      col_of_interest='FLATAMOUNT_0218', \n",
    "                                      n_treat_groups = 2)"
   ]
  },
  {
   "cell_type": "code",
   "execution_count": 46,
   "metadata": {},
   "outputs": [
    {
     "name": "stdout",
     "output_type": "stream",
     "text": [
      "A: Control group, no email\n",
      "B: Treatment group, either email\n",
      "\n",
      "Length of A 4818\n",
      "Length of B 9232\n",
      "\n",
      "Number of Draws: 4818\n",
      "\n",
      "Probability that B > A: 0.682855956829\n",
      "Average Savings, A: 1.59226\n",
      "Average Savings, B: 1.61003\n"
     ]
    }
   ],
   "source": [
    "RQ7_rate = run_continuous_ab_no_distrib(draws=len(control_2), \n",
    "                                      n_iterations=10000, \n",
    "                                      percentile=25, \n",
    "                                      col_of_interest='SAVINGS_RATE', \n",
    "                                      n_treat_groups = 2)"
   ]
  },
  {
   "cell_type": "markdown",
   "metadata": {},
   "source": [
    "#### RQ8: Among employees continuing their enrollments in 457(b) accounts, how likely is it that the 25th percentile of savings is greater among those who receive an email with simplified choice rather than one without the simplification?"
   ]
  },
  {
   "cell_type": "code",
   "execution_count": 47,
   "metadata": {},
   "outputs": [
    {
     "name": "stdout",
     "output_type": "stream",
     "text": [
      "A is the basic email\n",
      "B is the simplified choice email\n",
      "\n",
      "Length of A 4603\n",
      "Length of B 4629\n",
      "\n",
      "Number of Draws: 4818\n",
      "\n",
      "Probability that B > A: 0.00249066002491\n",
      "Average Savings, A: 49.99108\n",
      "Average Savings, B: 49.93982\n"
     ]
    }
   ],
   "source": [
    "RQ8_flat = run_continuous_ab_no_distrib(draws=len(control_2), \n",
    "                                      n_iterations=10000, \n",
    "                                      percentile=25, \n",
    "                                      col_of_interest='FLATAMOUNT_0218', \n",
    "                                      n_treat_groups = 3)"
   ]
  },
  {
   "cell_type": "code",
   "execution_count": 48,
   "metadata": {},
   "outputs": [
    {
     "name": "stdout",
     "output_type": "stream",
     "text": [
      "A is the basic email\n",
      "B is the simplified choice email\n",
      "\n",
      "Length of A 4603\n",
      "Length of B 4629\n",
      "\n",
      "Number of Draws: 4818\n",
      "\n",
      "Probability that B > A: 0.579078455791\n",
      "Average Savings, A: 1.60584\n",
      "Average Savings, B: 1.61425\n"
     ]
    }
   ],
   "source": [
    "RQ8_rate = run_continuous_ab_no_distrib(draws=len(control_2), \n",
    "                                      n_iterations=10000, \n",
    "                                      percentile=25, \n",
    "                                      col_of_interest='SAVINGS_RATE', \n",
    "                                      n_treat_groups = 3)"
   ]
  },
  {
   "cell_type": "code",
   "execution_count": null,
   "metadata": {},
   "outputs": [],
   "source": []
  }
 ],
 "metadata": {
  "kernelspec": {
   "display_name": "Python 3",
   "language": "python",
   "name": "python3"
  },
  "language_info": {
   "codemirror_mode": {
    "name": "ipython",
    "version": 3
   },
   "file_extension": ".py",
   "mimetype": "text/x-python",
   "name": "python",
   "nbconvert_exporter": "python",
   "pygments_lexer": "ipython3",
   "version": "3.7.6"
  }
 },
 "nbformat": 4,
 "nbformat_minor": 2
}
